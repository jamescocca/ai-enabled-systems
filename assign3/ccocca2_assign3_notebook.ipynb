{
 "cells": [
  {
   "cell_type": "markdown",
   "metadata": {},
   "source": [
    "Caroline Cocca<br>\n",
    "February 20, 2022<br>\n",
    "Creating AI-Enabled Systems<br>\n",
    "Assignment 3"
   ]
  },
  {
   "cell_type": "code",
   "execution_count": 1,
   "metadata": {},
   "outputs": [],
   "source": [
    "# import the text preprocessing functions from the python script\n",
    "import ccocca2_assign3"
   ]
  },
  {
   "cell_type": "code",
   "execution_count": 2,
   "metadata": {},
   "outputs": [],
   "source": [
    "# collect the summary column as a string\n",
    "summary = ccocca2_assign3.get_summary(\"archive/Musical_instruments_reviews.csv\")"
   ]
  },
  {
   "cell_type": "code",
   "execution_count": 3,
   "metadata": {},
   "outputs": [
    {
     "name": "stdout",
     "output_type": "stream",
     "text": [
      "First 10 summary word tokens: ['goodJakeIt', 'Does', 'The', 'Job', 'WellGOOD', 'WINDSCREEN', 'FOR', 'THE', 'MONEYNo', 'more']\n",
      "First 10 summary casual tokens: ['goodJakeIt', 'Does', 'The', 'Job', 'WellGOOD', 'WINDSCREEN', 'FOR', 'THE', 'MONEYNo', 'more']\n",
      "First 5 summary sentence tokens: [\"goodJakeIt Does The Job WellGOOD WINDSCREEN FOR THE MONEYNo more pops when I record my vocals.The Best CableMonster Standard 100 - 21' Instrument CableDidn't fit my 1996 Fender Strat...Great cableBest Instrument Cables On The MarketOne of the best instrument cables within the brandIt works great but I hardly use it.HAS TO GET USE TO THE SIZEawesomeIt works!Definitely Not For The Seasoned Piano PlayerDurable Instrument Cablefender 18 ft. Cali clear...So far so good.\", \"Will revisit at the 6 month mark ;)Add California to the name and I jump!Cheap and cool looking, good lengthFender 18 Feet California Clear Instrument Cable - Lake Placid BlueGuitar CableQuality cable!I Got Great Pricing, But Still a Really Good ProductIts a HosaQuality and SecureMidi to MidiVery Heavy Cables At Affordable PriceStill goingDoes what it's supposed to doGood cableGood EnoughGreat little cordDoes the job.\", \"What more do you need?Decent mic cableDecent inexpensive cablea fine cable.Hosa is the bestExcellent quality, exactly what I neededgreat valueFive StarsPretty cheap cable that has lasted so farvery nice cableNice guitar cable, even better priceDoes What You Wantflexible, soft rubber is great.Works wonderfully, no noiseexcellentGreat Guitar Cable, Good Value - Highly RecommendedCannot recommendCable works as describedI have bought many cables and this one is the only one that gives me problemsgets the job doneNice cable for the priceWell made audio cableEhgreat, affordable, cordNice Cablemaybe not the best but it serves it's purposeHigh quality low costworks as advertised....Good cablesNo ComplaintsGood QualityPerfect for practice!Nice high quality guitar cableWorks wellWell built cablepperfect amp chord.for home useHosa Cable GTR210 Guitar Instrument Cable - 10ft.Standard guitar cableHosa Electric Guitar Cable GTR210So Far So Goodaverage cableGood quality, low priceGood for the PriceFeel a little flimsy and can see easily breaking, but the workExcellentOnly complaint is the size which is my fault.\", '...worth itWorksGood quality, great priceVery good quality for an excellent priceGood cables at a good price!', '!works well, great qualityGreat ValueGood cablesVery Solid CablesCrapWorks Good.']\n",
      "\n"
     ]
    }
   ],
   "source": [
    "# perform and print word, casual, and sentence tokenization\n",
    "wtokens, ctokens, stokens = ccocca2_assign3.do_tokens(summary)"
   ]
  },
  {
   "cell_type": "code",
   "execution_count": 4,
   "metadata": {},
   "outputs": [
    {
     "name": "stdout",
     "output_type": "stream",
     "text": [
      "First 10 Porter stems: {'goodJakeIt': 'goodjakeit', 'Does': 'doe', 'The': 'the', 'Job': 'job', 'WellGOOD': 'wellgood', 'WINDSCREEN': 'windscreen', 'FOR': 'for', 'THE': 'the', 'MONEYNo': 'moneyno', 'more': 'more'}\n",
      "First 10 Lancaster stems: {'goodJakeIt': 'goodjakeit', 'Does': 'doe', 'The': 'the', 'Job': 'job', 'WellGOOD': 'wellgood', 'WINDSCREEN': 'windscreen', 'FOR': 'for', 'THE': 'the', 'MONEYNo': 'moneyno', 'more': 'mor'}\n",
      "First 10 Snowball stems: {'goodJakeIt': 'goodjakeit', 'Does': 'doe', 'The': 'the', 'Job': 'job', 'WellGOOD': 'wellgood', 'WINDSCREEN': 'windscreen', 'FOR': 'for', 'THE': 'the', 'MONEYNo': 'moneyno', 'more': 'more'}\n",
      "\n"
     ]
    }
   ],
   "source": [
    "# perform and print Porter, Lancaster, and Snowball stemming\n",
    "ccocca2_assign3.do_stems(wtokens)"
   ]
  },
  {
   "cell_type": "code",
   "execution_count": 5,
   "metadata": {},
   "outputs": [
    {
     "name": "stdout",
     "output_type": "stream",
     "text": [
      "First 10 WordNet lemmas: {'goodJakeIt': 'goodJakeIt', 'Does': 'Does', 'The': 'The', 'Job': 'Job', 'WellGOOD': 'WellGOOD', 'WINDSCREEN': 'WINDSCREEN', 'FOR': 'FOR', 'THE': 'THE', 'MONEYNo': 'MONEYNo', 'more': 'more'}\n",
      "\n"
     ]
    }
   ],
   "source": [
    "# perform and print WordNet lemmatization\n",
    "ccocca2_assign3.do_lemmas(wtokens)"
   ]
  }
 ],
 "metadata": {
  "kernelspec": {
   "display_name": "Python (en605645)",
   "language": "python",
   "name": "en605645"
  },
  "language_info": {
   "codemirror_mode": {
    "name": "ipython",
    "version": 3
   },
   "file_extension": ".py",
   "mimetype": "text/x-python",
   "name": "python",
   "nbconvert_exporter": "python",
   "pygments_lexer": "ipython3",
   "version": "3.8.5"
  }
 },
 "nbformat": 4,
 "nbformat_minor": 4
}
