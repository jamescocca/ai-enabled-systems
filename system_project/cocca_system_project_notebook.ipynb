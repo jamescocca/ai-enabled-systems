{
 "cells": [
  {
   "cell_type": "code",
   "execution_count": 1,
   "metadata": {},
   "outputs": [],
   "source": [
    "import pandas as pd\n",
    "import numpy as np\n",
    "import matplotlib.pyplot as plt\n",
    "import seaborn as sns\n",
    "from sklearn import preprocessing\n",
    "from sklearn.model_selection import StratifiedKFold\n",
    "from sklearn.metrics import f1_score\n",
    "from sklearn.metrics import accuracy_score\n",
    "from sklearn.metrics import confusion_matrix\n",
    "from sklearn.ensemble import RandomForestClassifier\n",
    "from sklearn.tree import DecisionTreeClassifier\n",
    "from sklearn.naive_bayes import GaussianNB\n",
    "from sklearn.neighbors import KNeighborsClassifier"
   ]
  },
  {
   "cell_type": "code",
   "execution_count": 2,
   "metadata": {},
   "outputs": [],
   "source": [
    "db = pd.read_csv('diabetes.csv')"
   ]
  },
  {
   "cell_type": "code",
   "execution_count": 3,
   "metadata": {},
   "outputs": [
    {
     "data": {
      "text/html": [
       "<div>\n",
       "<style scoped>\n",
       "    .dataframe tbody tr th:only-of-type {\n",
       "        vertical-align: middle;\n",
       "    }\n",
       "\n",
       "    .dataframe tbody tr th {\n",
       "        vertical-align: top;\n",
       "    }\n",
       "\n",
       "    .dataframe thead th {\n",
       "        text-align: right;\n",
       "    }\n",
       "</style>\n",
       "<table border=\"1\" class=\"dataframe\">\n",
       "  <thead>\n",
       "    <tr style=\"text-align: right;\">\n",
       "      <th></th>\n",
       "      <th>Pregnancies</th>\n",
       "      <th>Glucose</th>\n",
       "      <th>BloodPressure</th>\n",
       "      <th>SkinThickness</th>\n",
       "      <th>Insulin</th>\n",
       "      <th>BMI</th>\n",
       "      <th>DiabetesPedigreeFunction</th>\n",
       "      <th>Age</th>\n",
       "      <th>Outcome</th>\n",
       "    </tr>\n",
       "  </thead>\n",
       "  <tbody>\n",
       "    <tr>\n",
       "      <th>0</th>\n",
       "      <td>6</td>\n",
       "      <td>148</td>\n",
       "      <td>72</td>\n",
       "      <td>35</td>\n",
       "      <td>0</td>\n",
       "      <td>33.6</td>\n",
       "      <td>0.627</td>\n",
       "      <td>50</td>\n",
       "      <td>1</td>\n",
       "    </tr>\n",
       "    <tr>\n",
       "      <th>1</th>\n",
       "      <td>1</td>\n",
       "      <td>85</td>\n",
       "      <td>66</td>\n",
       "      <td>29</td>\n",
       "      <td>0</td>\n",
       "      <td>26.6</td>\n",
       "      <td>0.351</td>\n",
       "      <td>31</td>\n",
       "      <td>0</td>\n",
       "    </tr>\n",
       "    <tr>\n",
       "      <th>2</th>\n",
       "      <td>8</td>\n",
       "      <td>183</td>\n",
       "      <td>64</td>\n",
       "      <td>0</td>\n",
       "      <td>0</td>\n",
       "      <td>23.3</td>\n",
       "      <td>0.672</td>\n",
       "      <td>32</td>\n",
       "      <td>1</td>\n",
       "    </tr>\n",
       "    <tr>\n",
       "      <th>3</th>\n",
       "      <td>1</td>\n",
       "      <td>89</td>\n",
       "      <td>66</td>\n",
       "      <td>23</td>\n",
       "      <td>94</td>\n",
       "      <td>28.1</td>\n",
       "      <td>0.167</td>\n",
       "      <td>21</td>\n",
       "      <td>0</td>\n",
       "    </tr>\n",
       "    <tr>\n",
       "      <th>4</th>\n",
       "      <td>0</td>\n",
       "      <td>137</td>\n",
       "      <td>40</td>\n",
       "      <td>35</td>\n",
       "      <td>168</td>\n",
       "      <td>43.1</td>\n",
       "      <td>2.288</td>\n",
       "      <td>33</td>\n",
       "      <td>1</td>\n",
       "    </tr>\n",
       "  </tbody>\n",
       "</table>\n",
       "</div>"
      ],
      "text/plain": [
       "   Pregnancies  Glucose  BloodPressure  SkinThickness  Insulin   BMI  \\\n",
       "0            6      148             72             35        0  33.6   \n",
       "1            1       85             66             29        0  26.6   \n",
       "2            8      183             64              0        0  23.3   \n",
       "3            1       89             66             23       94  28.1   \n",
       "4            0      137             40             35      168  43.1   \n",
       "\n",
       "   DiabetesPedigreeFunction  Age  Outcome  \n",
       "0                     0.627   50        1  \n",
       "1                     0.351   31        0  \n",
       "2                     0.672   32        1  \n",
       "3                     0.167   21        0  \n",
       "4                     2.288   33        1  "
      ]
     },
     "execution_count": 3,
     "metadata": {},
     "output_type": "execute_result"
    }
   ],
   "source": [
    "# sanity check that the dataset was read correctly from the csv\n",
    "db.head()"
   ]
  },
  {
   "cell_type": "markdown",
   "metadata": {},
   "source": [
    "Display the number of observations in the dataset."
   ]
  },
  {
   "cell_type": "code",
   "execution_count": 4,
   "metadata": {},
   "outputs": [
    {
     "data": {
      "text/plain": [
       "768"
      ]
     },
     "execution_count": 4,
     "metadata": {},
     "output_type": "execute_result"
    }
   ],
   "source": [
    "len(db)"
   ]
  },
  {
   "cell_type": "markdown",
   "metadata": {},
   "source": [
    "Perform initial check for null values."
   ]
  },
  {
   "cell_type": "code",
   "execution_count": 5,
   "metadata": {},
   "outputs": [
    {
     "data": {
      "text/plain": [
       "Pregnancies                 0\n",
       "Glucose                     0\n",
       "BloodPressure               0\n",
       "SkinThickness               0\n",
       "Insulin                     0\n",
       "BMI                         0\n",
       "DiabetesPedigreeFunction    0\n",
       "Age                         0\n",
       "Outcome                     0\n",
       "dtype: int64"
      ]
     },
     "execution_count": 5,
     "metadata": {},
     "output_type": "execute_result"
    }
   ],
   "source": [
    "db.isnull().sum()"
   ]
  },
  {
   "cell_type": "markdown",
   "metadata": {},
   "source": [
    "Note that above, pandas returns that there are no null values in the dataset. However, this dataset has an irregular coding of null values as 0s instead of NaNs. These values exist in the glucose, blood pressure, skin thickness, insulin, and BMI columns. Therefore, we convert all 0 values in these columns to NaNs in order to get an accurate view of the number of null values for each feature."
   ]
  },
  {
   "cell_type": "code",
   "execution_count": 6,
   "metadata": {},
   "outputs": [
    {
     "data": {
      "text/plain": [
       "Pregnancies                   0\n",
       "Glucose                       5\n",
       "BloodPressure                35\n",
       "SkinThickness               227\n",
       "Insulin                     374\n",
       "BMI                          11\n",
       "DiabetesPedigreeFunction      0\n",
       "Age                           0\n",
       "Outcome                       0\n",
       "dtype: int64"
      ]
     },
     "execution_count": 6,
     "metadata": {},
     "output_type": "execute_result"
    }
   ],
   "source": [
    "db2 = db.copy(deep = True)\n",
    "db2[['Glucose','BloodPressure','SkinThickness','Insulin','BMI']] = db2[['Glucose','BloodPressure','SkinThickness','Insulin','BMI']].replace(0,np.NaN)\n",
    "\n",
    "db2.isnull().sum()"
   ]
  },
  {
   "cell_type": "markdown",
   "metadata": {},
   "source": [
    "Impute missing values with the mean value for each feature."
   ]
  },
  {
   "cell_type": "code",
   "execution_count": 7,
   "metadata": {},
   "outputs": [
    {
     "name": "stdout",
     "output_type": "stream",
     "text": [
      "Pregnancies                 0\n",
      "Glucose                     0\n",
      "BloodPressure               0\n",
      "SkinThickness               0\n",
      "Insulin                     0\n",
      "BMI                         0\n",
      "DiabetesPedigreeFunction    0\n",
      "Age                         0\n",
      "Outcome                     0\n",
      "dtype: int64\n"
     ]
    }
   ],
   "source": [
    "db2['Glucose'].fillna(db2['Glucose'].mean(), inplace = True)\n",
    "db2['BloodPressure'].fillna(db2['BloodPressure'].mean(), inplace = True)\n",
    "db2['SkinThickness'].fillna(db2['SkinThickness'].mean(), inplace = True)\n",
    "db2['Insulin'].fillna(db2['Insulin'].mean(), inplace = True)\n",
    "db2['BMI'].fillna(db2['BMI'].mean(), inplace = True)\n",
    "\n",
    "# sanity check that no null values remain\n",
    "print(db2.isnull().sum())"
   ]
  },
  {
   "cell_type": "markdown",
   "metadata": {},
   "source": [
    "Observe feature distributions via histograms."
   ]
  },
  {
   "cell_type": "code",
   "execution_count": 8,
   "metadata": {
    "scrolled": false
   },
   "outputs": [
    {
     "data": {
      "image/png": "[encoded data removed]",
      "text/plain": [
       "<Figure size 720x432 with 1 Axes>"
      ]
     },
     "metadata": {
      "needs_background": "light"
     },
     "output_type": "display_data"
    },
    {
     "data": {
      "image/png": "[encoded data removed]",
      "text/plain": [
       "<Figure size 720x432 with 1 Axes>"
      ]
     },
     "metadata": {
      "needs_background": "light"
     },
     "output_type": "display_data"
    },
    {
     "data": {
      "image/png": "[encoded data removed]",
      "text/plain": [
       "<Figure size 720x432 with 1 Axes>"
      ]
     },
     "metadata": {
      "needs_background": "light"
     },
     "output_type": "display_data"
    },
    {
     "data": {
      "image/png": "[encoded data removed]",
      "text/plain": [
       "<Figure size 720x432 with 1 Axes>"
      ]
     },
     "metadata": {
      "needs_background": "light"
     },
     "output_type": "display_data"
    }
   ],
   "source": [
    "for col in db2.columns[:4]:\n",
    "    db2.hist(column=col, figsize=(10,6), color='#ad1759')"
   ]
  },
  {
   "cell_type": "code",
   "execution_count": 9,
   "metadata": {},
   "outputs": [
    {
     "data": {
      "image/png": "[encoded data removed]",
      "text/plain": [
       "<Figure size 720x432 with 1 Axes>"
      ]
     },
     "metadata": {
      "needs_background": "light"
     },
     "output_type": "display_data"
    },
    {
     "data": {
      "image/png": "[encoded data removed]",
      "text/plain": [
       "<Figure size 720x432 with 1 Axes>"
      ]
     },
     "metadata": {
      "needs_background": "light"
     },
     "output_type": "display_data"
    },
    {
     "data": {
      "image/png": "[encoded data removed]",
      "text/plain": [
       "<Figure size 720x432 with 1 Axes>"
      ]
     },
     "metadata": {
      "needs_background": "light"
     },
     "output_type": "display_data"
    },
    {
     "data": {
      "image/png": "[encoded data removed]",
      "text/plain": [
       "<Figure size 720x432 with 1 Axes>"
      ]
     },
     "metadata": {
      "needs_background": "light"
     },
     "output_type": "display_data"
    }
   ],
   "source": [
    "for col in db2.columns[4:8]:\n",
    "    db2.hist(column=col, figsize=(10,6), color='#ad1759')"
   ]
  },
  {
   "cell_type": "code",
   "execution_count": 10,
   "metadata": {
    "scrolled": false
   },
   "outputs": [
    {
     "data": {
      "text/plain": [
       "array([[<AxesSubplot:title={'center':'Outcome'}>]], dtype=object)"
      ]
     },
     "execution_count": 10,
     "metadata": {},
     "output_type": "execute_result"
    },
    {
     "data": {
      "image/png": "[encoded data removed]",
      "text/plain": [
       "<Figure size 720x432 with 1 Axes>"
      ]
     },
     "metadata": {
      "needs_background": "light"
     },
     "output_type": "display_data"
    }
   ],
   "source": [
    "db2.hist(column='Outcome', figsize=(10,6), color='#ad1759')"
   ]
  },
  {
   "cell_type": "markdown",
   "metadata": {},
   "source": [
    "Due to the imbalance of the classes resulting in the positive class being underrepresented in the dataset, it will be important to monitor confusion matrices/F1 scores moving forward to ensure that accuracy is not trivially achieved by the model through bias towards the negative class."
   ]
  },
  {
   "cell_type": "markdown",
   "metadata": {},
   "source": [
    "Observe correlation matrix of the features"
   ]
  },
  {
   "cell_type": "code",
   "execution_count": 11,
   "metadata": {
    "scrolled": false
   },
   "outputs": [
    {
     "data": {
      "text/plain": [
       "<AxesSubplot:>"
      ]
     },
     "execution_count": 11,
     "metadata": {},
     "output_type": "execute_result"
    },
    {
     "data": {
      "image/png": "[encoded data removed]",
      "text/plain": [
       "<Figure size 720x576 with 2 Axes>"
      ]
     },
     "metadata": {
      "needs_background": "light"
     },
     "output_type": "display_data"
    }
   ],
   "source": [
    "fig, ax = plt.subplots(figsize=(10,8))  \n",
    "sns.heatmap(db2.corr(), annot=True, cmap ='rocket')"
   ]
  },
  {
   "cell_type": "markdown",
   "metadata": {},
   "source": [
    "Unsurprisingly, glucose is shown to be significantly positively correlated with a positive outcome of diabetes. Interestingly, insulin is also shown to be positively correlated with glucose, but insulin itself has a much lower positive correlation with the diabetes outcome. However, it should be noted that a very large amount of insulin values were null values as reported above, so this may not be an accurate reflection of the true distribution in the population.\n",
    "\n",
    "Following glucose, BMI has the next highest correlation with the diabetic outcome, followed by age, number of pregnancies, skin thickness, and insulin. The features with the lowest correlation with the outcome variable are blood pressure and the diabetes pedigree function; however, the correlation listed is not negligible.\n",
    "\n",
    "Because the number of features is already relatively small, it is possible that feature removal is not necessary in this problem. To investigate further, a random forest classifier will be used in order to observe the feature importance ratings of the features list."
   ]
  },
  {
   "cell_type": "code",
   "execution_count": 12,
   "metadata": {
    "scrolled": true
   },
   "outputs": [
    {
     "name": "stdout",
     "output_type": "stream",
     "text": [
      " 1) Glucose                        0.247178\n",
      " 2) BMI                            0.161648\n",
      " 3) Age                            0.136025\n",
      " 4) DiabetesPedigreeFunction       0.125494\n",
      " 5) Insulin                        0.092139\n",
      " 6) BloodPressure                  0.086892\n",
      " 7) Pregnancies                    0.076297\n",
      " 8) SkinThickness                  0.074326\n"
     ]
    }
   ],
   "source": [
    "X = db2.drop('Outcome', axis=1).values\n",
    "y = db2['Outcome'].values\n",
    "feat_labels = db2.columns[:17]\n",
    "forest = RandomForestClassifier(n_estimators=100, random_state=1)\n",
    "forest.fit(X, y)\n",
    "importances = forest.feature_importances_\n",
    "indices = np.argsort(importances)[::-1]\n",
    "for f in range(X.shape[1]):\n",
    "    print(\"%2d) %-*s %f\" % (f + 1, 30, feat_labels[indices[f]], importances[indices[f]]))"
   ]
  },
  {
   "cell_type": "markdown",
   "metadata": {},
   "source": [
    "The first three ranked features (glucose, BMI, age) are identical to the results of the correlation matrix. However, the diabetes pedigree function is rated next highest in importance, and blood pressure is similarly ranked higher by the classifier. Because these features likely contain some level of useful information for predicting the target variable, all features will be kept for model selection."
   ]
  },
  {
   "cell_type": "markdown",
   "metadata": {},
   "source": [
    "Next, we will normalize the data to ensure all features are on the same scale before model selection."
   ]
  },
  {
   "cell_type": "code",
   "execution_count": 13,
   "metadata": {},
   "outputs": [],
   "source": [
    "x = db2.values\n",
    "mms = preprocessing.MinMaxScaler()\n",
    "x_norm = mms.fit_transform(x)\n",
    "db_norm = pd.DataFrame(x_norm)\n",
    "db_norm.columns = db2.columns"
   ]
  },
  {
   "cell_type": "code",
   "execution_count": 14,
   "metadata": {},
   "outputs": [
    {
     "data": {
      "text/html": [
       "<div>\n",
       "<style scoped>\n",
       "    .dataframe tbody tr th:only-of-type {\n",
       "        vertical-align: middle;\n",
       "    }\n",
       "\n",
       "    .dataframe tbody tr th {\n",
       "        vertical-align: top;\n",
       "    }\n",
       "\n",
       "    .dataframe thead th {\n",
       "        text-align: right;\n",
       "    }\n",
       "</style>\n",
       "<table border=\"1\" class=\"dataframe\">\n",
       "  <thead>\n",
       "    <tr style=\"text-align: right;\">\n",
       "      <th></th>\n",
       "      <th>Pregnancies</th>\n",
       "      <th>Glucose</th>\n",
       "      <th>BloodPressure</th>\n",
       "      <th>SkinThickness</th>\n",
       "      <th>Insulin</th>\n",
       "      <th>BMI</th>\n",
       "      <th>DiabetesPedigreeFunction</th>\n",
       "      <th>Age</th>\n",
       "      <th>Outcome</th>\n",
       "    </tr>\n",
       "  </thead>\n",
       "  <tbody>\n",
       "    <tr>\n",
       "      <th>0</th>\n",
       "      <td>0.352941</td>\n",
       "      <td>0.670968</td>\n",
       "      <td>0.489796</td>\n",
       "      <td>0.304348</td>\n",
       "      <td>0.170130</td>\n",
       "      <td>0.314928</td>\n",
       "      <td>0.234415</td>\n",
       "      <td>0.483333</td>\n",
       "      <td>1.0</td>\n",
       "    </tr>\n",
       "    <tr>\n",
       "      <th>1</th>\n",
       "      <td>0.058824</td>\n",
       "      <td>0.264516</td>\n",
       "      <td>0.428571</td>\n",
       "      <td>0.239130</td>\n",
       "      <td>0.170130</td>\n",
       "      <td>0.171779</td>\n",
       "      <td>0.116567</td>\n",
       "      <td>0.166667</td>\n",
       "      <td>0.0</td>\n",
       "    </tr>\n",
       "    <tr>\n",
       "      <th>2</th>\n",
       "      <td>0.470588</td>\n",
       "      <td>0.896774</td>\n",
       "      <td>0.408163</td>\n",
       "      <td>0.240798</td>\n",
       "      <td>0.170130</td>\n",
       "      <td>0.104294</td>\n",
       "      <td>0.253629</td>\n",
       "      <td>0.183333</td>\n",
       "      <td>1.0</td>\n",
       "    </tr>\n",
       "    <tr>\n",
       "      <th>3</th>\n",
       "      <td>0.058824</td>\n",
       "      <td>0.290323</td>\n",
       "      <td>0.428571</td>\n",
       "      <td>0.173913</td>\n",
       "      <td>0.096154</td>\n",
       "      <td>0.202454</td>\n",
       "      <td>0.038002</td>\n",
       "      <td>0.000000</td>\n",
       "      <td>0.0</td>\n",
       "    </tr>\n",
       "    <tr>\n",
       "      <th>4</th>\n",
       "      <td>0.000000</td>\n",
       "      <td>0.600000</td>\n",
       "      <td>0.163265</td>\n",
       "      <td>0.304348</td>\n",
       "      <td>0.185096</td>\n",
       "      <td>0.509202</td>\n",
       "      <td>0.943638</td>\n",
       "      <td>0.200000</td>\n",
       "      <td>1.0</td>\n",
       "    </tr>\n",
       "  </tbody>\n",
       "</table>\n",
       "</div>"
      ],
      "text/plain": [
       "   Pregnancies   Glucose  BloodPressure  SkinThickness   Insulin       BMI  \\\n",
       "0     0.352941  0.670968       0.489796       0.304348  0.170130  0.314928   \n",
       "1     0.058824  0.264516       0.428571       0.239130  0.170130  0.171779   \n",
       "2     0.470588  0.896774       0.408163       0.240798  0.170130  0.104294   \n",
       "3     0.058824  0.290323       0.428571       0.173913  0.096154  0.202454   \n",
       "4     0.000000  0.600000       0.163265       0.304348  0.185096  0.509202   \n",
       "\n",
       "   DiabetesPedigreeFunction       Age  Outcome  \n",
       "0                  0.234415  0.483333      1.0  \n",
       "1                  0.116567  0.166667      0.0  \n",
       "2                  0.253629  0.183333      1.0  \n",
       "3                  0.038002  0.000000      0.0  \n",
       "4                  0.943638  0.200000      1.0  "
      ]
     },
     "execution_count": 14,
     "metadata": {},
     "output_type": "execute_result"
    }
   ],
   "source": [
    "# sanity check that features have been scaled to 0-1\n",
    "db_norm.head()"
   ]
  },
  {
   "cell_type": "markdown",
   "metadata": {},
   "source": [
    "Evaluate k-NN, naive bayes, decision tree, and random forest classifier performance on the dataset through stratified k-fold cross validation, where k=5."
   ]
  },
  {
   "cell_type": "markdown",
   "metadata": {},
   "source": [
    "First, evaluate k-NN with k = 10, 20, 30, 40, and 50 neighbors."
   ]
  },
  {
   "cell_type": "code",
   "execution_count": 15,
   "metadata": {},
   "outputs": [
    {
     "name": "stdout",
     "output_type": "stream",
     "text": [
      "f1 for knn (k=10): 0.709 ± 0.033\n",
      "acc for knn (k=10): 0.747 ± 0.031\n",
      "\n",
      "f1 for knn (k=20): 0.715 ± 0.040\n",
      "acc for knn (k=20): 0.758 ± 0.035\n",
      "\n",
      "f1 for knn (k=30): 0.726 ± 0.035\n",
      "acc for knn (k=30): 0.766 ± 0.031\n",
      "\n",
      "f1 for knn (k=40): 0.716 ± 0.039\n",
      "acc for knn (k=40): 0.763 ± 0.032\n",
      "\n",
      "f1 for knn (k=50): 0.708 ± 0.046\n",
      "acc for knn (k=50): 0.755 ± 0.037\n",
      "\n",
      "Confusion matrix of final test fold:\n"
     ]
    },
    {
     "data": {
      "text/plain": [
       "array([[84, 16],\n",
       "       [30, 23]])"
      ]
     },
     "execution_count": 15,
     "metadata": {},
     "output_type": "execute_result"
    }
   ],
   "source": [
    "kf = StratifiedKFold(n_splits=5, shuffle=True, random_state=1)\n",
    "\n",
    "X = db_norm.drop('Outcome', axis=1).values\n",
    "y = db_norm['Outcome'].values\n",
    "for neighbors in [10, 20, 30, 40, 50]:\n",
    "    f1 = []\n",
    "    acc = []\n",
    "    knn = KNeighborsClassifier(n_neighbors = neighbors)\n",
    "    for (train_index, test_index) in kf.split(X, y):\n",
    "        knn.fit(X[train_index], y[train_index])\n",
    "        y_hat = knn.predict(X[test_index])\n",
    "        f1 += [f1_score(y[test_index], y_hat, average='macro')]\n",
    "        acc += [accuracy_score(y[test_index], y_hat)]\n",
    "    print(f'f1 for knn (k={neighbors}): {np.mean(f1):.3f} {chr(177)} {np.std(f1):.3f}')\n",
    "    print(f'acc for knn (k={neighbors}): {np.mean(acc):.3f} {chr(177)} {np.std(acc):.3f}')\n",
    "    print()\n",
    "print('Confusion matrix of final test fold:')\n",
    "confusion_matrix(y[test_index], y_hat)"
   ]
  },
  {
   "cell_type": "markdown",
   "metadata": {},
   "source": [
    "The best performing model is k=30."
   ]
  },
  {
   "cell_type": "markdown",
   "metadata": {},
   "source": [
    "Next, evaluate Naive Bayes with var_smoothing = 1, 1e-2, 1e-4, 1e-8, and 1e-10."
   ]
  },
  {
   "cell_type": "code",
   "execution_count": 16,
   "metadata": {
    "scrolled": false
   },
   "outputs": [
    {
     "name": "stdout",
     "output_type": "stream",
     "text": [
      "f1 for naive bayes (var_smoothing=1.0):0.681 ± 0.031\n",
      "acc for naive bayes (var_smoothing=1.0):0.746 ± 0.017\n",
      "\n",
      "f1 for naive bayes (var_smoothing=0.01):0.713 ± 0.028\n",
      "acc for naive bayes (var_smoothing=0.01):0.743 ± 0.029\n",
      "\n",
      "f1 for naive bayes (var_smoothing=0.0001):0.712 ± 0.029\n",
      "acc for naive bayes (var_smoothing=0.0001):0.742 ± 0.030\n",
      "\n",
      "f1 for naive bayes (var_smoothing=1e-06):0.712 ± 0.029\n",
      "acc for naive bayes (var_smoothing=1e-06):0.742 ± 0.030\n",
      "\n",
      "f1 for naive bayes (var_smoothing=1e-08):0.712 ± 0.029\n",
      "acc for naive bayes (var_smoothing=1e-08):0.742 ± 0.030\n",
      "\n",
      "f1 for naive bayes (var_smoothing=1e-10):0.712 ± 0.029\n",
      "acc for naive bayes (var_smoothing=1e-10):0.742 ± 0.030\n",
      "\n",
      "Confusion matrix of final test fold:\n"
     ]
    },
    {
     "data": {
      "text/plain": [
       "array([[81, 19],\n",
       "       [23, 30]])"
      ]
     },
     "execution_count": 16,
     "metadata": {},
     "output_type": "execute_result"
    }
   ],
   "source": [
    "kf = StratifiedKFold(n_splits=5, shuffle=True, random_state=1)\n",
    "\n",
    "for smooth in np.logspace(0,-10,num=6):\n",
    "    f1 = []\n",
    "    acc = []\n",
    "    gnb = GaussianNB(var_smoothing=smooth)\n",
    "    for (train_index, test_index) in kf.split(X, y):\n",
    "        gnb.fit(X[train_index], y[train_index])\n",
    "        y_hat = gnb.predict(X[test_index])\n",
    "        f1 += [f1_score(y[test_index], y_hat, average='macro')]\n",
    "        acc += [accuracy_score(y[test_index], y_hat)]\n",
    "    print(f'f1 for naive bayes (var_smoothing={smooth}):{np.mean(f1):.3f} {chr(177)} {np.std(f1):.3f}')\n",
    "    print(f'acc for naive bayes (var_smoothing={smooth}):{np.mean(acc):.3f} {chr(177)} {np.std(acc):.3f}')\n",
    "    print()\n",
    "print('Confusion matrix of final test fold:')\n",
    "confusion_matrix(y[test_index], y_hat)"
   ]
  },
  {
   "cell_type": "markdown",
   "metadata": {},
   "source": [
    "The best performing model is var_smoothing=1e-2."
   ]
  },
  {
   "cell_type": "markdown",
   "metadata": {},
   "source": [
    "Next, evaluate decision tree with max_depth = 1, 2, 3, 4, 5, and 6."
   ]
  },
  {
   "cell_type": "code",
   "execution_count": 17,
   "metadata": {
    "scrolled": false
   },
   "outputs": [
    {
     "name": "stdout",
     "output_type": "stream",
     "text": [
      "f1 for decision tree (max_depth=1): 0.691 ± 0.033\n",
      "acc for decision tree (max_depth=1): 0.713 ± 0.034\n",
      "\n",
      "f1 for decision tree (max_depth=2): 0.697 ± 0.040\n",
      "acc for decision tree (max_depth=2): 0.732 ± 0.038\n",
      "\n",
      "f1 for decision tree (max_depth=3): 0.688 ± 0.032\n",
      "acc for decision tree (max_depth=3): 0.693 ± 0.033\n",
      "\n",
      "f1 for decision tree (max_depth=4): 0.708 ± 0.024\n",
      "acc for decision tree (max_depth=4): 0.717 ± 0.031\n",
      "\n",
      "f1 for decision tree (max_depth=5): 0.686 ± 0.026\n",
      "acc for decision tree (max_depth=5): 0.699 ± 0.031\n",
      "\n",
      "f1 for decision tree (max_depth=6): 0.694 ± 0.018\n",
      "acc for decision tree (max_depth=6): 0.710 ± 0.022\n",
      "\n",
      "Confusion matrix of final test fold:\n"
     ]
    },
    {
     "data": {
      "text/plain": [
       "array([[76, 24],\n",
       "       [17, 36]])"
      ]
     },
     "execution_count": 17,
     "metadata": {},
     "output_type": "execute_result"
    }
   ],
   "source": [
    "kf = StratifiedKFold(n_splits=5, shuffle=True, random_state=1)\n",
    "\n",
    "for depth in [1, 2, 3, 4, 5, 6]:\n",
    "    f1 = []\n",
    "    acc = []\n",
    "    tree = DecisionTreeClassifier(random_state=1, class_weight='balanced', max_depth=depth)\n",
    "    for (train_index, test_index) in kf.split(X, y):\n",
    "        tree.fit(X[train_index], y[train_index])\n",
    "        y_hat = tree.predict(X[test_index])\n",
    "        f1 += [f1_score(y[test_index], y_hat, average='macro')]\n",
    "        acc += [accuracy_score(y[test_index], y_hat)]\n",
    "    print(f'f1 for decision tree (max_depth={depth}): {np.mean(f1):.3f} {chr(177)} {np.std(f1):.3f}')\n",
    "    print(f'acc for decision tree (max_depth={depth}): {np.mean(acc):.3f} {chr(177)} {np.std(acc):.3f}')\n",
    "    print()\n",
    "print('Confusion matrix of final test fold:')\n",
    "confusion_matrix(y[test_index], y_hat)"
   ]
  },
  {
   "cell_type": "markdown",
   "metadata": {},
   "source": [
    "The model with the best f1 score is max_depth = 4, and best accuracy is max_depth = 2. Due to the accuracy being significantly better and the f1 score being comparable, I would select max_depth = 2."
   ]
  },
  {
   "cell_type": "markdown",
   "metadata": {},
   "source": [
    "Finally, evaluate random forest with num_estimators = 50, 100, 150, and 200."
   ]
  },
  {
   "cell_type": "code",
   "execution_count": 18,
   "metadata": {},
   "outputs": [
    {
     "name": "stdout",
     "output_type": "stream",
     "text": [
      "f1 for random forest (n_estimators=50): 0.720 ± 0.037\n",
      "acc for random forest (n_estimators=50): 0.755 ± 0.033\n",
      "\n",
      "f1 for random forest (n_estimators=100): 0.723 ± 0.039\n",
      "acc for random forest (n_estimators=100): 0.755 ± 0.036\n",
      "\n",
      "f1 for random forest (n_estimators=150): 0.727 ± 0.039\n",
      "acc for random forest (n_estimators=150): 0.759 ± 0.034\n",
      "\n",
      "f1 for random forest (n_estimators=200): 0.721 ± 0.037\n",
      "acc for random forest (n_estimators=200): 0.754 ± 0.033\n",
      "\n",
      "Confusion matrix of final test fold:\n"
     ]
    },
    {
     "data": {
      "text/plain": [
       "array([[83, 17],\n",
       "       [25, 28]])"
      ]
     },
     "execution_count": 18,
     "metadata": {},
     "output_type": "execute_result"
    }
   ],
   "source": [
    "kf = StratifiedKFold(n_splits=5, shuffle=True, random_state=1)\n",
    "\n",
    "for estimators in [50, 100, 150, 200]:\n",
    "    f1 = []\n",
    "    acc = []\n",
    "    rf = RandomForestClassifier(n_estimators=estimators, random_state=1, class_weight='balanced')\n",
    "    for (train_index, test_index) in kf.split(X, y):\n",
    "        rf.fit(X[train_index], y[train_index])\n",
    "        y_hat = rf.predict(X[test_index])\n",
    "        f1 += [f1_score(y[test_index], y_hat, average='macro')]\n",
    "        acc += [accuracy_score(y[test_index], y_hat)]\n",
    "    print(f'f1 for random forest (n_estimators={estimators}): {np.mean(f1):.3f} {chr(177)} {np.std(f1):.3f}')\n",
    "    print(f'acc for random forest (n_estimators={estimators}): {np.mean(acc):.3f} {chr(177)} {np.std(acc):.3f}')\n",
    "    print()\n",
    "print('Confusion matrix of final test fold:')\n",
    "confusion_matrix(y[test_index], y_hat)"
   ]
  },
  {
   "cell_type": "markdown",
   "metadata": {},
   "source": [
    "The best performing model is num_estimators=150."
   ]
  },
  {
   "cell_type": "markdown",
   "metadata": {},
   "source": [
    "Overall, the model with the best accuracy is k-NN with k=30 (acc=76.6), and the model with the best f1 score is random forest with num_estimators=150 (f1=72.7). Because the f1 score of the k-NN model is very close (f1=72.6) and the accuracy score of the random forest model has a larger gap (acc=75.9), I would select the k-NN model with k=30 as the best overall model. This selection is also influenced by k-NN being a more explainable model than RF."
   ]
  },
  {
   "cell_type": "code",
   "execution_count": null,
   "metadata": {},
   "outputs": [],
   "source": []
  }
 ],
 "metadata": {
  "kernelspec": {
   "display_name": "Python 3",
   "language": "python",
   "name": "python3"
  },
  "language_info": {
   "codemirror_mode": {
    "name": "ipython",
    "version": 3
   },
   "file_extension": ".py",
   "mimetype": "text/x-python",
   "name": "python",
   "nbconvert_exporter": "python",
   "pygments_lexer": "ipython3",
   "version": "3.8.5"
  }
 },
 "nbformat": 4,
 "nbformat_minor": 4
}
